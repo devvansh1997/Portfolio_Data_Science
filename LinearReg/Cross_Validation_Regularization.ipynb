{
 "cells": [
  {
   "cell_type": "code",
   "execution_count": 2,
   "metadata": {},
   "outputs": [],
   "source": [
    "import pandas as pd\n",
    "import numpy as np\n",
    "\n",
    "from sklearn.linear_model import LinearRegression\n",
    "from sklearn.model_selection import train_test_split\n",
    "from sklearn.model_selection import KFold, cross_val_score\n",
    "from sklearn.metrics import mean_squared_error, mean_absolute_error"
   ]
  },
  {
   "cell_type": "markdown",
   "metadata": {},
   "source": [
    "# Train Validation Split\n"
   ]
  },
  {
   "cell_type": "code",
   "execution_count": 4,
   "metadata": {},
   "outputs": [],
   "source": [
    "housing = pd.read_csv('ds_housing.csv')\n",
    "# housing.head()\n",
    "# housing = housing.dropna()"
   ]
  },
  {
   "cell_type": "code",
   "execution_count": 9,
   "metadata": {},
   "outputs": [
    {
     "data": {
      "text/html": [
       "<div>\n",
       "<style scoped>\n",
       "    .dataframe tbody tr th:only-of-type {\n",
       "        vertical-align: middle;\n",
       "    }\n",
       "\n",
       "    .dataframe tbody tr th {\n",
       "        vertical-align: top;\n",
       "    }\n",
       "\n",
       "    .dataframe thead th {\n",
       "        text-align: right;\n",
       "    }\n",
       "</style>\n",
       "<table border=\"1\" class=\"dataframe\">\n",
       "  <thead>\n",
       "    <tr style=\"text-align: right;\">\n",
       "      <th></th>\n",
       "      <th>neighborhood</th>\n",
       "      <th>type</th>\n",
       "      <th>units</th>\n",
       "      <th>year_built</th>\n",
       "      <th>sq_ft</th>\n",
       "      <th>income</th>\n",
       "      <th>income_per_sq_ft</th>\n",
       "      <th>expense</th>\n",
       "      <th>expense_per_sq_ft</th>\n",
       "      <th>net_income</th>\n",
       "      <th>value</th>\n",
       "      <th>value_per_sq_ft</th>\n",
       "      <th>boro</th>\n",
       "    </tr>\n",
       "  </thead>\n",
       "  <tbody>\n",
       "    <tr>\n",
       "      <th>0</th>\n",
       "      <td>FINANCIAL</td>\n",
       "      <td>R9-CONDOMINIUM</td>\n",
       "      <td>42</td>\n",
       "      <td>1920.0</td>\n",
       "      <td>36500</td>\n",
       "      <td>1332615</td>\n",
       "      <td>36.51</td>\n",
       "      <td>342005</td>\n",
       "      <td>9.37</td>\n",
       "      <td>990610</td>\n",
       "      <td>7300000</td>\n",
       "      <td>200.00</td>\n",
       "      <td>Manhattan</td>\n",
       "    </tr>\n",
       "    <tr>\n",
       "      <th>1</th>\n",
       "      <td>FINANCIAL</td>\n",
       "      <td>R4-CONDOMINIUM</td>\n",
       "      <td>78</td>\n",
       "      <td>1985.0</td>\n",
       "      <td>126420</td>\n",
       "      <td>6633257</td>\n",
       "      <td>52.47</td>\n",
       "      <td>1762295</td>\n",
       "      <td>13.94</td>\n",
       "      <td>4870962</td>\n",
       "      <td>30690000</td>\n",
       "      <td>242.76</td>\n",
       "      <td>Manhattan</td>\n",
       "    </tr>\n",
       "    <tr>\n",
       "      <th>2</th>\n",
       "      <td>FINANCIAL</td>\n",
       "      <td>RR-CONDOMINIUM</td>\n",
       "      <td>500</td>\n",
       "      <td>NaN</td>\n",
       "      <td>554174</td>\n",
       "      <td>17310000</td>\n",
       "      <td>31.24</td>\n",
       "      <td>3543000</td>\n",
       "      <td>6.39</td>\n",
       "      <td>13767000</td>\n",
       "      <td>90970000</td>\n",
       "      <td>164.15</td>\n",
       "      <td>Manhattan</td>\n",
       "    </tr>\n",
       "    <tr>\n",
       "      <th>3</th>\n",
       "      <td>FINANCIAL</td>\n",
       "      <td>R4-CONDOMINIUM</td>\n",
       "      <td>282</td>\n",
       "      <td>1930.0</td>\n",
       "      <td>249076</td>\n",
       "      <td>11776313</td>\n",
       "      <td>47.28</td>\n",
       "      <td>2784670</td>\n",
       "      <td>11.18</td>\n",
       "      <td>8991643</td>\n",
       "      <td>67556006</td>\n",
       "      <td>271.23</td>\n",
       "      <td>Manhattan</td>\n",
       "    </tr>\n",
       "    <tr>\n",
       "      <th>4</th>\n",
       "      <td>TRIBECA</td>\n",
       "      <td>R4-CONDOMINIUM</td>\n",
       "      <td>239</td>\n",
       "      <td>1985.0</td>\n",
       "      <td>219495</td>\n",
       "      <td>10004582</td>\n",
       "      <td>45.58</td>\n",
       "      <td>2783197</td>\n",
       "      <td>12.68</td>\n",
       "      <td>7221385</td>\n",
       "      <td>54320996</td>\n",
       "      <td>247.48</td>\n",
       "      <td>Manhattan</td>\n",
       "    </tr>\n",
       "  </tbody>\n",
       "</table>\n",
       "</div>"
      ],
      "text/plain": [
       "  neighborhood            type  units  year_built   sq_ft    income  \\\n",
       "0    FINANCIAL  R9-CONDOMINIUM     42      1920.0   36500   1332615   \n",
       "1    FINANCIAL  R4-CONDOMINIUM     78      1985.0  126420   6633257   \n",
       "2    FINANCIAL  RR-CONDOMINIUM    500         NaN  554174  17310000   \n",
       "3    FINANCIAL  R4-CONDOMINIUM    282      1930.0  249076  11776313   \n",
       "4      TRIBECA  R4-CONDOMINIUM    239      1985.0  219495  10004582   \n",
       "\n",
       "   income_per_sq_ft  expense  expense_per_sq_ft  net_income     value  \\\n",
       "0             36.51   342005               9.37      990610   7300000   \n",
       "1             52.47  1762295              13.94     4870962  30690000   \n",
       "2             31.24  3543000               6.39    13767000  90970000   \n",
       "3             47.28  2784670              11.18     8991643  67556006   \n",
       "4             45.58  2783197              12.68     7221385  54320996   \n",
       "\n",
       "   value_per_sq_ft       boro  \n",
       "0           200.00  Manhattan  \n",
       "1           242.76  Manhattan  \n",
       "2           164.15  Manhattan  \n",
       "3           271.23  Manhattan  \n",
       "4           247.48  Manhattan  "
      ]
     },
     "execution_count": 9,
     "metadata": {},
     "output_type": "execute_result"
    }
   ],
   "source": [
    "housing.head()"
   ]
  },
  {
   "cell_type": "code",
   "execution_count": 5,
   "metadata": {},
   "outputs": [],
   "source": [
    "x = pd.get_dummies(housing[['units', 'sq_ft', 'boro']], drop_first=True)\n",
    "#print(x)"
   ]
  },
  {
   "cell_type": "code",
   "execution_count": 6,
   "metadata": {},
   "outputs": [],
   "source": [
    "y = housing[\"value_per_sq_ft\"]"
   ]
  },
  {
   "cell_type": "code",
   "execution_count": 7,
   "metadata": {},
   "outputs": [],
   "source": [
    "# Get Training and Testing (Validation) data\n",
    "xTrain, xTest, yTrain, yTest = train_test_split(x, y, test_size=0.20)"
   ]
  },
  {
   "cell_type": "code",
   "execution_count": 8,
   "metadata": {},
   "outputs": [
    {
     "name": "stdout",
     "output_type": "stream",
     "text": [
      "0.6543294824479968\n"
     ]
    }
   ],
   "source": [
    "# Score Linear Regression\n",
    "lr = LinearRegression().fit(xTrain, yTrain)\n",
    "#lr.score?\n",
    "print(lr.score(xTest, yTest))"
   ]
  },
  {
   "cell_type": "markdown",
   "metadata": {},
   "source": [
    "# K-Fold Cross Validation"
   ]
  },
  {
   "cell_type": "code",
   "execution_count": 7,
   "metadata": {},
   "outputs": [],
   "source": [
    "housing = pd.read_csv('housing.csv')\n",
    "\n",
    "x = pd.get_dummies(housing[['units', 'sq_ft', 'boro']], drop_first=True)\n",
    "y = housing[\"value_per_sq_ft\"]\n",
    "\n",
    "kf = KFold(n_splits=5)\n",
    "\n",
    "coefs = []\n",
    "scores = [] # R^2\n",
    "RMSE = [] # Square root of Mean Squared Error \n",
    "RMAE = [] # Square root of Mean Absolute Error \n",
    "\n",
    "for trainIndex, testIndex in kf.split(x):\n",
    "    #print(trainIndex, testIndex)\n",
    "\n",
    "    # Use iLoc with Dataframe, no iLoc with list\n",
    "    xTrain, xTest = x.iloc[trainIndex], x.iloc[testIndex]\n",
    "    yTrain, yTest = y.iloc[trainIndex], y.iloc[testIndex]\n",
    "    \n",
    "    lr = LinearRegression().fit(xTrain, yTrain)\n",
    "    \n",
    "    # Coefficients/Parameters/Weights\n",
    "    coefs.append(pd.DataFrame(lr.coef_))\n",
    "    \n",
    "    # Evaluation\n",
    "    scores.append(lr.score(xTest, yTest)) # 'r^2' score\n",
    "    \n",
    "    # More creteria\n",
    "    yPred = lr.predict(xTest)\n",
    "    RMSE.append(np.sqrt(mean_squared_error(yPred, yTest)))\n",
    "    RMAE.append(np.sqrt(mean_absolute_error(yPred, yTest)))      "
   ]
  },
  {
   "cell_type": "code",
   "execution_count": 8,
   "metadata": {},
   "outputs": [
    {
     "name": "stdout",
     "output_type": "stream",
     "text": [
      "[0.027314162908477768, -0.5538362212170342, -0.15636371687906858, -0.32342020619393663, -1.692965558651288]\n",
      "[48.50565100436402, 56.86049715104664, 62.814519127147435, 23.86714762978918, 50.58929461326704]\n",
      "[6.291404732856928, 6.86217976719242, 6.946889246154169, 4.125021074523702, 6.41595480271768]\n",
      "-0.5398543080065699\n",
      "48.527421905122864\n",
      "6.12828992468898\n"
     ]
    }
   ],
   "source": [
    "print(scores)\n",
    "print(RMSE)\n",
    "print(RMAE)\n",
    "\n",
    "print(np.mean(scores))\n",
    "print(np.mean(RMSE))\n",
    "print(np.mean(RMAE))"
   ]
  },
  {
   "cell_type": "code",
   "execution_count": 9,
   "metadata": {},
   "outputs": [
    {
     "name": "stdout",
     "output_type": "stream",
     "text": [
      "[ 0.02731416 -0.55383622 -0.15636372 -0.32342021 -1.69296556]\n"
     ]
    }
   ],
   "source": [
    "# As an alternative to all that...\n",
    "model = LinearRegression()\n",
    "\n",
    "scores = cross_val_score(model, x, y, cv=5) # scoring = 'r^2', by default\n",
    "#cross_val_score?\n",
    "print(scores)"
   ]
  },
  {
   "cell_type": "markdown",
   "metadata": {},
   "source": [
    "# K-Fold Cross Validation with Regularization"
   ]
  },
  {
   "cell_type": "code",
   "execution_count": 10,
   "metadata": {},
   "outputs": [],
   "source": [
    "from sklearn.linear_model import Lasso, Ridge\n",
    "\n",
    "x = pd.get_dummies(housing[[\"units\", \"sq_ft\", \"boro\"]], drop_first=True)\n",
    "y = housing[\"value_per_sq_ft\"]\n",
    "\n",
    "kf = KFold(n_splits=5, shuffle=True)\n",
    "\n",
    "coefs  = {}\n",
    "scores = {} # R^2\n",
    "RMSE   = {}\n",
    "RMAE    = {}\n",
    "\n",
    "# Constant that multiplies the L1 (Lasso) or L2 (Ridge) term.\n",
    "alphas = [.1, .2, .3, .4, .5, .6, .7, .8, .9, 1]\n",
    "for alpha in alphas:\n",
    "    for trainIndex, testIndex in kf.split(x):\n",
    "\n",
    "        xTrain, xTest = x.iloc[trainIndex], x.iloc[testIndex]\n",
    "        yTrain, yTest = y.iloc[trainIndex], y.iloc[testIndex]\n",
    "\n",
    "        lr = Lasso(alpha=alpha).fit(xTrain, yTrain)\n",
    "        #lr = Ridge(alpha=alpha).fit(xTrain, yTrain)\n",
    "        \n",
    "        coefs[alpha] = pd.DataFrame(lr.coef_)\n",
    "\n",
    "        yPred = lr.predict(xTest)\n",
    "\n",
    "        scores[alpha] = lr.score(xTest, yTest)\n",
    "        RMSE[alpha] = np.sqrt(mean_squared_error(yPred, yTest))\n",
    "        RMAE[alpha] = np.sqrt(mean_absolute_error(yPred, yTest))"
   ]
  },
  {
   "cell_type": "code",
   "execution_count": 11,
   "metadata": {},
   "outputs": [
    {
     "data": {
      "text/html": [
       "<div>\n",
       "<style scoped>\n",
       "    .dataframe tbody tr th:only-of-type {\n",
       "        vertical-align: middle;\n",
       "    }\n",
       "\n",
       "    .dataframe tbody tr th {\n",
       "        vertical-align: top;\n",
       "    }\n",
       "\n",
       "    .dataframe thead th {\n",
       "        text-align: right;\n",
       "    }\n",
       "</style>\n",
       "<table border=\"1\" class=\"dataframe\">\n",
       "  <thead>\n",
       "    <tr style=\"text-align: right;\">\n",
       "      <th></th>\n",
       "      <th>Alpha</th>\n",
       "      <th>R^2</th>\n",
       "      <th>RMSE</th>\n",
       "      <th>RMAE</th>\n",
       "    </tr>\n",
       "  </thead>\n",
       "  <tbody>\n",
       "    <tr>\n",
       "      <th>0</th>\n",
       "      <td>0.1</td>\n",
       "      <td>0.599488</td>\n",
       "      <td>44.945075</td>\n",
       "      <td>5.812412</td>\n",
       "    </tr>\n",
       "    <tr>\n",
       "      <th>1</th>\n",
       "      <td>0.2</td>\n",
       "      <td>0.590361</td>\n",
       "      <td>44.754986</td>\n",
       "      <td>5.841926</td>\n",
       "    </tr>\n",
       "    <tr>\n",
       "      <th>2</th>\n",
       "      <td>0.3</td>\n",
       "      <td>0.591975</td>\n",
       "      <td>42.822051</td>\n",
       "      <td>5.665421</td>\n",
       "    </tr>\n",
       "    <tr>\n",
       "      <th>3</th>\n",
       "      <td>0.4</td>\n",
       "      <td>0.581052</td>\n",
       "      <td>44.009686</td>\n",
       "      <td>5.835189</td>\n",
       "    </tr>\n",
       "    <tr>\n",
       "      <th>4</th>\n",
       "      <td>0.5</td>\n",
       "      <td>0.616653</td>\n",
       "      <td>42.602228</td>\n",
       "      <td>5.675589</td>\n",
       "    </tr>\n",
       "    <tr>\n",
       "      <th>5</th>\n",
       "      <td>0.6</td>\n",
       "      <td>0.526571</td>\n",
       "      <td>46.981524</td>\n",
       "      <td>5.953416</td>\n",
       "    </tr>\n",
       "    <tr>\n",
       "      <th>6</th>\n",
       "      <td>0.7</td>\n",
       "      <td>0.587262</td>\n",
       "      <td>44.528094</td>\n",
       "      <td>5.790746</td>\n",
       "    </tr>\n",
       "    <tr>\n",
       "      <th>7</th>\n",
       "      <td>0.8</td>\n",
       "      <td>0.527888</td>\n",
       "      <td>44.584244</td>\n",
       "      <td>5.778948</td>\n",
       "    </tr>\n",
       "    <tr>\n",
       "      <th>8</th>\n",
       "      <td>0.9</td>\n",
       "      <td>0.564607</td>\n",
       "      <td>44.441736</td>\n",
       "      <td>5.848046</td>\n",
       "    </tr>\n",
       "    <tr>\n",
       "      <th>9</th>\n",
       "      <td>1.0</td>\n",
       "      <td>0.552299</td>\n",
       "      <td>48.652862</td>\n",
       "      <td>6.069315</td>\n",
       "    </tr>\n",
       "  </tbody>\n",
       "</table>\n",
       "</div>"
      ],
      "text/plain": [
       "   Alpha       R^2       RMSE      RMAE\n",
       "0    0.1  0.599488  44.945075  5.812412\n",
       "1    0.2  0.590361  44.754986  5.841926\n",
       "2    0.3  0.591975  42.822051  5.665421\n",
       "3    0.4  0.581052  44.009686  5.835189\n",
       "4    0.5  0.616653  42.602228  5.675589\n",
       "5    0.6  0.526571  46.981524  5.953416\n",
       "6    0.7  0.587262  44.528094  5.790746\n",
       "7    0.8  0.527888  44.584244  5.778948\n",
       "8    0.9  0.564607  44.441736  5.848046\n",
       "9    1.0  0.552299  48.652862  6.069315"
      ]
     },
     "execution_count": 11,
     "metadata": {},
     "output_type": "execute_result"
    }
   ],
   "source": [
    "df1 = pd.DataFrame(list(scores.items()), columns = ['Alpha','R^2'])\n",
    "df2 = pd.DataFrame(list(RMSE.items()), columns = ['Alpha','RMSE'])\n",
    "df3 = pd.DataFrame(list(RMAE.items()), columns = ['Alpha','RMAE'])\n",
    "\n",
    "pd.merge(pd.merge(df1, df2, on='Alpha'), df3, on='Alpha')"
   ]
  },
  {
   "cell_type": "code",
   "execution_count": 12,
   "metadata": {},
   "outputs": [],
   "source": [
    "# Previously w/o regularization, we got -0.5399, 48.5274, 6.1283 for R^2, RMSE, RMAE"
   ]
  }
 ],
 "metadata": {
  "kernelspec": {
   "display_name": "Python 3",
   "language": "python",
   "name": "python3"
  },
  "language_info": {
   "codemirror_mode": {
    "name": "ipython",
    "version": 3
   },
   "file_extension": ".py",
   "mimetype": "text/x-python",
   "name": "python",
   "nbconvert_exporter": "python",
   "pygments_lexer": "ipython3",
   "version": "3.8.8"
  }
 },
 "nbformat": 4,
 "nbformat_minor": 4
}
