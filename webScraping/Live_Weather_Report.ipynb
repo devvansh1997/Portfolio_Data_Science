{
 "cells": [
  {
   "cell_type": "code",
   "execution_count": 58,
   "id": "1e07261c",
   "metadata": {},
   "outputs": [],
   "source": [
    "# intial imports for packages\n",
    "\n",
    "import datetime\n",
    "import pandas as pd\n",
    "import numpy as np\n",
    "import urllib.request\n",
    "import re as re\n",
    "from bs4 import BeautifulSoup\n",
    "import requests"
   ]
  },
  {
   "cell_type": "code",
   "execution_count": 59,
   "id": "c20c6072",
   "metadata": {},
   "outputs": [
    {
     "name": "stdout",
     "output_type": "stream",
     "text": [
      "Enter the name of the city: Dayton\n",
      "{'coord': {'lon': -84.1916, 'lat': 39.7589}, 'weather': [{'id': 802, 'main': 'Clouds', 'description': 'scattered clouds', 'icon': '03d'}], 'base': 'stations', 'main': {'temp': 299.21, 'feels_like': 299.21, 'temp_min': 297.86, 'temp_max': 300.52, 'pressure': 1020, 'humidity': 58}, 'visibility': 10000, 'wind': {'speed': 0.89, 'deg': 138, 'gust': 3.58}, 'clouds': {'all': 40}, 'dt': 1633470055, 'sys': {'type': 2, 'id': 2009010, 'country': 'US', 'sunrise': 1633433818, 'sunset': 1633475577}, 'timezone': -14400, 'id': 4509884, 'name': 'Dayton', 'cod': 200}\n"
     ]
    }
   ],
   "source": [
    "#Using urllib we establishing a connection and then accepting a json object back from the api.\n",
    "#source: openweathermap.org\n",
    "#to use the api, we must create and activate account in order to be able to access the api.\n",
    "\n",
    "api_k = \"fcf49ea205bb969d8d606b46dbfd6432\"\n",
    "cityName = input(\"Enter the name of the city: \")\n",
    "url = \"http://api.openweathermap.org/data/2.5/weather?q=\"+cityName+\"&appid=\"+api_k\n",
    "\n",
    "main = requests.get(url)\n",
    "data = main.json()\n",
    "now = datetime.datetime.now()\n",
    "\n",
    "#see what the data looks like\n",
    "print(data)"
   ]
  },
  {
   "cell_type": "code",
   "execution_count": 60,
   "id": "f549a56f",
   "metadata": {},
   "outputs": [],
   "source": [
    "# functions to use for conversion to fahrenheit/celsius. I have gone with Fahrenheit.\n",
    "def convertToFahrenheit(k):\n",
    "    f = (k-273.15)*1.8+32\n",
    "    return f\n",
    "\n",
    "def convertToCelsius(k):\n",
    "    return (k-273.15)"
   ]
  },
  {
   "cell_type": "code",
   "execution_count": 61,
   "id": "93a24ecd",
   "metadata": {},
   "outputs": [
    {
     "data": {
      "text/html": [
       "<div>\n",
       "<style scoped>\n",
       "    .dataframe tbody tr th:only-of-type {\n",
       "        vertical-align: middle;\n",
       "    }\n",
       "\n",
       "    .dataframe tbody tr th {\n",
       "        vertical-align: top;\n",
       "    }\n",
       "\n",
       "    .dataframe thead th {\n",
       "        text-align: right;\n",
       "    }\n",
       "</style>\n",
       "<table border=\"1\" class=\"dataframe\">\n",
       "  <thead>\n",
       "    <tr style=\"text-align: right;\">\n",
       "      <th></th>\n",
       "      <th>Time</th>\n",
       "      <th>Name</th>\n",
       "      <th>Country</th>\n",
       "      <th>Temp</th>\n",
       "      <th>Feels Like Temp</th>\n",
       "      <th>Min Temp</th>\n",
       "      <th>Max Temp</th>\n",
       "      <th>Pressure</th>\n",
       "      <th>Humidity</th>\n",
       "      <th>Wind Speed</th>\n",
       "      <th>Wind Direction</th>\n",
       "      <th>Description</th>\n",
       "      <th>Icon</th>\n",
       "    </tr>\n",
       "  </thead>\n",
       "  <tbody>\n",
       "    <tr>\n",
       "      <th>1</th>\n",
       "      <td>2021-10-05 17:42:46</td>\n",
       "      <td>Dayton</td>\n",
       "      <td>US</td>\n",
       "      <td>78.91</td>\n",
       "      <td>78.91</td>\n",
       "      <td>76.48</td>\n",
       "      <td>81.27</td>\n",
       "      <td>1020</td>\n",
       "      <td>58</td>\n",
       "      <td>0.89</td>\n",
       "      <td>138</td>\n",
       "      <td>scattered clouds</td>\n",
       "      <td>03d</td>\n",
       "    </tr>\n",
       "  </tbody>\n",
       "</table>\n",
       "</div>"
      ],
      "text/plain": [
       "                  Time    Name Country   Temp  Feels Like Temp  Min Temp  \\\n",
       "1  2021-10-05 17:42:46  Dayton      US  78.91            78.91     76.48   \n",
       "\n",
       "   Max Temp  Pressure  Humidity  Wind Speed  Wind Direction       Description  \\\n",
       "1     81.27      1020        58        0.89             138  scattered clouds   \n",
       "\n",
       "  Icon  \n",
       "1  03d  "
      ]
     },
     "execution_count": 61,
     "metadata": {},
     "output_type": "execute_result"
    }
   ],
   "source": [
    "# Selecting out values from json object based on our choice\n",
    "\n",
    "\n",
    "weather = {}\n",
    "weather[\"Time\"] = now.strftime(\"%Y-%m-%d %H:%M:%S\")\n",
    "weather[\"Name\"] = data[\"name\"]\n",
    "weather[\"Country\"] = data[\"sys\"][\"country\"]\n",
    "weather[\"Temp\"] = round(convertToFahrenheit(data[\"main\"][\"temp\"]),2)\n",
    "weather[\"Feels Like Temp\"] = round(convertToFahrenheit(data[\"main\"][\"feels_like\"]),2)\n",
    "weather[\"Min Temp\"] = round(convertToFahrenheit(data[\"main\"][\"temp_min\"]),2)\n",
    "weather[\"Max Temp\"] = round(convertToFahrenheit(data[\"main\"][\"temp_max\"]),2)\n",
    "weather[\"Pressure\"] = data[\"main\"][\"pressure\"]\n",
    "weather[\"Humidity\"] = data[\"main\"][\"humidity\"]\n",
    "weather[\"Wind Speed\"] = data[\"wind\"][\"speed\"]\n",
    "weather[\"Wind Direction\"] = data[\"wind\"][\"deg\"]\n",
    "weather[\"Description\"] = data[\"weather\"][0][\"description\"]\n",
    "weather[\"Icon\"] = data[\"weather\"][0]['icon']\n",
    "\n",
    "#creating date frame to better display imformation\n",
    "df = pd.DataFrame(weather, index=[1])\n",
    "df"
   ]
  },
  {
   "cell_type": "code",
   "execution_count": null,
   "id": "dbdcadb4",
   "metadata": {},
   "outputs": [],
   "source": []
  }
 ],
 "metadata": {
  "kernelspec": {
   "display_name": "Python 3",
   "language": "python",
   "name": "python3"
  },
  "language_info": {
   "codemirror_mode": {
    "name": "ipython",
    "version": 3
   },
   "file_extension": ".py",
   "mimetype": "text/x-python",
   "name": "python",
   "nbconvert_exporter": "python",
   "pygments_lexer": "ipython3",
   "version": "3.8.8"
  }
 },
 "nbformat": 4,
 "nbformat_minor": 5
}
