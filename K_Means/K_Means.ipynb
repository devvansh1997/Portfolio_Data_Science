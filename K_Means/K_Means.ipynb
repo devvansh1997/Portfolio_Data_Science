{
 "cells": [
  {
   "cell_type": "code",
   "execution_count": 3,
   "id": "d517f439",
   "metadata": {},
   "outputs": [],
   "source": [
    "# Basic Imports\n",
    "\n",
    "import pandas as pd\n",
    "import numpy as np"
   ]
  },
  {
   "cell_type": "code",
   "execution_count": 18,
   "id": "45f06f6d",
   "metadata": {},
   "outputs": [],
   "source": [
    "# Visualization Imports\n",
    "\n",
    "import seaborn as sns\n",
    "import matplotlib.pyplot as plt"
   ]
  },
  {
   "cell_type": "code",
   "execution_count": 2,
   "id": "fb7a38b8",
   "metadata": {},
   "outputs": [],
   "source": [
    "# K means imports\n",
    "\n",
    "from sklearn.cluster import KMeans\n",
    "from sklearn.decomposition import PCA"
   ]
  },
  {
   "cell_type": "code",
   "execution_count": 26,
   "id": "f3827ef0",
   "metadata": {},
   "outputs": [],
   "source": [
    "from sklearn.preprocessing import StandardScaler, Normalizer"
   ]
  },
  {
   "cell_type": "code",
   "execution_count": 113,
   "id": "bc4e9fde",
   "metadata": {},
   "outputs": [
    {
     "data": {
      "text/html": [
       "<div>\n",
       "<style scoped>\n",
       "    .dataframe tbody tr th:only-of-type {\n",
       "        vertical-align: middle;\n",
       "    }\n",
       "\n",
       "    .dataframe tbody tr th {\n",
       "        vertical-align: top;\n",
       "    }\n",
       "\n",
       "    .dataframe thead th {\n",
       "        text-align: right;\n",
       "    }\n",
       "</style>\n",
       "<table border=\"1\" class=\"dataframe\">\n",
       "  <thead>\n",
       "    <tr style=\"text-align: right;\">\n",
       "      <th></th>\n",
       "      <th>0</th>\n",
       "      <th>1</th>\n",
       "      <th>2</th>\n",
       "      <th>3</th>\n",
       "      <th>4</th>\n",
       "    </tr>\n",
       "  </thead>\n",
       "  <tbody>\n",
       "    <tr>\n",
       "      <th>0</th>\n",
       "      <td>84</td>\n",
       "      <td>0</td>\n",
       "      <td>55</td>\n",
       "      <td>0</td>\n",
       "      <td>0</td>\n",
       "    </tr>\n",
       "    <tr>\n",
       "      <th>1</th>\n",
       "      <td>76</td>\n",
       "      <td>0</td>\n",
       "      <td>80</td>\n",
       "      <td>0</td>\n",
       "      <td>0</td>\n",
       "    </tr>\n",
       "    <tr>\n",
       "      <th>2</th>\n",
       "      <td>50</td>\n",
       "      <td>0</td>\n",
       "      <td>80</td>\n",
       "      <td>0</td>\n",
       "      <td>0</td>\n",
       "    </tr>\n",
       "    <tr>\n",
       "      <th>3</th>\n",
       "      <td>60</td>\n",
       "      <td>0</td>\n",
       "      <td>44</td>\n",
       "      <td>0</td>\n",
       "      <td>0</td>\n",
       "    </tr>\n",
       "    <tr>\n",
       "      <th>4</th>\n",
       "      <td>106</td>\n",
       "      <td>0</td>\n",
       "      <td>77</td>\n",
       "      <td>1</td>\n",
       "      <td>0</td>\n",
       "    </tr>\n",
       "  </tbody>\n",
       "</table>\n",
       "</div>"
      ],
      "text/plain": [
       "     0  1   2  3  4\n",
       "0   84  0  55  0  0\n",
       "1   76  0  80  0  0\n",
       "2   50  0  80  0  0\n",
       "3   60  0  44  0  0\n",
       "4  106  0  77  1  0"
      ]
     },
     "execution_count": 113,
     "metadata": {},
     "output_type": "execute_result"
    }
   ],
   "source": [
    "cardiac = pd.read_csv('cardiacData.csv',header=None)\n",
    "cardiac.head()"
   ]
  },
  {
   "cell_type": "code",
   "execution_count": 114,
   "id": "dc6576d6",
   "metadata": {},
   "outputs": [
    {
     "data": {
      "text/html": [
       "<div>\n",
       "<style scoped>\n",
       "    .dataframe tbody tr th:only-of-type {\n",
       "        vertical-align: middle;\n",
       "    }\n",
       "\n",
       "    .dataframe tbody tr th {\n",
       "        vertical-align: top;\n",
       "    }\n",
       "\n",
       "    .dataframe thead th {\n",
       "        text-align: right;\n",
       "    }\n",
       "</style>\n",
       "<table border=\"1\" class=\"dataframe\">\n",
       "  <thead>\n",
       "    <tr style=\"text-align: right;\">\n",
       "      <th></th>\n",
       "      <th>HR</th>\n",
       "      <th>ST</th>\n",
       "      <th>Age</th>\n",
       "      <th>NPHA</th>\n",
       "      <th>Outcome</th>\n",
       "    </tr>\n",
       "  </thead>\n",
       "  <tbody>\n",
       "    <tr>\n",
       "      <th>0</th>\n",
       "      <td>84</td>\n",
       "      <td>0</td>\n",
       "      <td>55</td>\n",
       "      <td>0</td>\n",
       "      <td>0</td>\n",
       "    </tr>\n",
       "    <tr>\n",
       "      <th>1</th>\n",
       "      <td>76</td>\n",
       "      <td>0</td>\n",
       "      <td>80</td>\n",
       "      <td>0</td>\n",
       "      <td>0</td>\n",
       "    </tr>\n",
       "    <tr>\n",
       "      <th>2</th>\n",
       "      <td>50</td>\n",
       "      <td>0</td>\n",
       "      <td>80</td>\n",
       "      <td>0</td>\n",
       "      <td>0</td>\n",
       "    </tr>\n",
       "    <tr>\n",
       "      <th>3</th>\n",
       "      <td>60</td>\n",
       "      <td>0</td>\n",
       "      <td>44</td>\n",
       "      <td>0</td>\n",
       "      <td>0</td>\n",
       "    </tr>\n",
       "    <tr>\n",
       "      <th>4</th>\n",
       "      <td>106</td>\n",
       "      <td>0</td>\n",
       "      <td>77</td>\n",
       "      <td>1</td>\n",
       "      <td>0</td>\n",
       "    </tr>\n",
       "  </tbody>\n",
       "</table>\n",
       "</div>"
      ],
      "text/plain": [
       "    HR  ST  Age  NPHA  Outcome\n",
       "0   84   0   55     0        0\n",
       "1   76   0   80     0        0\n",
       "2   50   0   80     0        0\n",
       "3   60   0   44     0        0\n",
       "4  106   0   77     1        0"
      ]
     },
     "execution_count": 114,
     "metadata": {},
     "output_type": "execute_result"
    }
   ],
   "source": [
    "cardiac.columns = ['HR', 'ST', 'Age', 'NPHA', 'Outcome']\n",
    "cardiac.head()"
   ]
  },
  {
   "cell_type": "code",
   "execution_count": 115,
   "id": "4196f667",
   "metadata": {},
   "outputs": [
    {
     "data": {
      "text/plain": [
       "<AxesSubplot:>"
      ]
     },
     "execution_count": 115,
     "metadata": {},
     "output_type": "execute_result"
    },
    {
     "data": {
      "image/png": "[encoded data removed]",
      "text/plain": [
       "<Figure size 720x432 with 2 Axes>"
      ]
     },
     "metadata": {
      "needs_background": "light"
     },
     "output_type": "display_data"
    }
   ],
   "source": [
    "plt.figure(figsize=(10,6))\n",
    "sns.heatmap(cardiac.corr(), cmap ='coolwarm', linewidths = 0.30, annot = True)"
   ]
  },
  {
   "cell_type": "code",
   "execution_count": 116,
   "id": "6e3e26f4",
   "metadata": {},
   "outputs": [],
   "source": [
    "cardiac = Normalizer().fit_transform(cardiac)\n",
    "cardiac = pd.DataFrame(cardiac)"
   ]
  },
  {
   "cell_type": "code",
   "execution_count": 117,
   "id": "79da7935",
   "metadata": {},
   "outputs": [],
   "source": [
    "# create 3 clusters to start\n",
    "kmeans = KMeans(n_clusters=3).fit(cardiac.values)"
   ]
  },
  {
   "cell_type": "code",
   "execution_count": 118,
   "id": "055e9306",
   "metadata": {},
   "outputs": [
    {
     "name": "stdout",
     "output_type": "stream",
     "text": [
      "(array([0, 1, 2]), array([109,  79,  62], dtype=int64))\n"
     ]
    }
   ],
   "source": [
    "print(np.unique(kmeans.labels_, return_counts=True))"
   ]
  },
  {
   "cell_type": "code",
   "execution_count": 120,
   "id": "b25f0f27",
   "metadata": {},
   "outputs": [
    {
     "name": "stdout",
     "output_type": "stream",
     "text": [
      "     cluster\n",
      "0          1\n",
      "1          0\n",
      "2          2\n",
      "3          1\n",
      "4          1\n",
      "..       ...\n",
      "245        0\n",
      "246        0\n",
      "247        2\n",
      "248        0\n",
      "249        1\n",
      "\n",
      "[250 rows x 1 columns]\n"
     ]
    }
   ],
   "source": [
    "kmeans_3 = pd.DataFrame(kmeans.labels_, columns=['cluster'])\n",
    "print(kmeans_3)"
   ]
  },
  {
   "cell_type": "code",
   "execution_count": 121,
   "id": "1632a9de",
   "metadata": {},
   "outputs": [
    {
     "data": {
      "text/html": [
       "<div>\n",
       "<style scoped>\n",
       "    .dataframe tbody tr th:only-of-type {\n",
       "        vertical-align: middle;\n",
       "    }\n",
       "\n",
       "    .dataframe tbody tr th {\n",
       "        vertical-align: top;\n",
       "    }\n",
       "\n",
       "    .dataframe thead th {\n",
       "        text-align: right;\n",
       "    }\n",
       "</style>\n",
       "<table border=\"1\" class=\"dataframe\">\n",
       "  <thead>\n",
       "    <tr style=\"text-align: right;\">\n",
       "      <th></th>\n",
       "      <th>cluster</th>\n",
       "      <th>pca1</th>\n",
       "      <th>pca2</th>\n",
       "    </tr>\n",
       "  </thead>\n",
       "  <tbody>\n",
       "    <tr>\n",
       "      <th>52</th>\n",
       "      <td>1</td>\n",
       "      <td>0.163500</td>\n",
       "      <td>0.004399</td>\n",
       "    </tr>\n",
       "    <tr>\n",
       "      <th>215</th>\n",
       "      <td>2</td>\n",
       "      <td>-0.252106</td>\n",
       "      <td>0.019228</td>\n",
       "    </tr>\n",
       "    <tr>\n",
       "      <th>162</th>\n",
       "      <td>1</td>\n",
       "      <td>0.082013</td>\n",
       "      <td>-0.006630</td>\n",
       "    </tr>\n",
       "    <tr>\n",
       "      <th>153</th>\n",
       "      <td>2</td>\n",
       "      <td>-0.332167</td>\n",
       "      <td>0.043193</td>\n",
       "    </tr>\n",
       "    <tr>\n",
       "      <th>161</th>\n",
       "      <td>1</td>\n",
       "      <td>0.124012</td>\n",
       "      <td>-0.001795</td>\n",
       "    </tr>\n",
       "  </tbody>\n",
       "</table>\n",
       "</div>"
      ],
      "text/plain": [
       "     cluster      pca1      pca2\n",
       "52         1  0.163500  0.004399\n",
       "215        2 -0.252106  0.019228\n",
       "162        1  0.082013 -0.006630\n",
       "153        2 -0.332167  0.043193\n",
       "161        1  0.124012 -0.001795"
      ]
     },
     "execution_count": 121,
     "metadata": {},
     "output_type": "execute_result"
    }
   ],
   "source": [
    "# Wouldn't it be nice to visualize these clusters? But how do we plot so many dimensions?\n",
    "\n",
    "# Enter PCA\n",
    "pca = PCA(n_components=2).fit(cardiac)\n",
    "\n",
    "# Perform the transform\n",
    "pca_trans = pca.transform(cardiac)\n",
    "\n",
    "pca_trans_df = pd.DataFrame(pca_trans, columns=['pca1', 'pca2'])\n",
    "\n",
    "# Add it to dataframe\n",
    "kmeans_3 = pd.concat([kmeans_3, pca_trans_df], axis=1)\n",
    "kmeans_3.sample(5)"
   ]
  },
  {
   "cell_type": "code",
   "execution_count": 122,
   "id": "1aea3da5",
   "metadata": {},
   "outputs": [
    {
     "data": {
      "image/png": "[encoded data removed]",
      "text/plain": [
       "<Figure size 402.375x360 with 1 Axes>"
      ]
     },
     "metadata": {
      "needs_background": "light"
     },
     "output_type": "display_data"
    }
   ],
   "source": [
    "fig = sns.lmplot(x = 'pca1', y='pca2', data=kmeans_3, hue='cluster', fit_reg=False)\n",
    "plt.show()"
   ]
  },
  {
   "cell_type": "code",
   "execution_count": 123,
   "id": "742357ad",
   "metadata": {},
   "outputs": [
    {
     "name": "stdout",
     "output_type": "stream",
     "text": [
      "Obj. Func: 1.9085052848679331\n",
      "Obj. Func: 0.8744181391740151\n",
      "Obj. Func: 0.6028711453085287\n",
      "Obj. Func: 0.39717309960693736\n",
      "Obj. Func: 0.2832996959485025\n",
      "Obj. Func: 0.20025284192595555\n",
      "Obj. Func: 0.14853864561707028\n",
      "Obj. Func: 0.12194334767985865\n",
      "Obj. Func: 0.10200267366431298\n"
     ]
    },
    {
     "data": {
      "text/plain": [
       "[<matplotlib.lines.Line2D at 0x1ecb63e1580>]"
      ]
     },
     "execution_count": 123,
     "metadata": {},
     "output_type": "execute_result"
    },
    {
     "data": {
      "image/png": "[encoded data removed]",
      "text/plain": [
       "<Figure size 432x288 with 1 Axes>"
      ]
     },
     "metadata": {
      "needs_background": "light"
     },
     "output_type": "display_data"
    }
   ],
   "source": [
    "clusterRange = range(2,11)\n",
    "\n",
    "objFuncs = []\n",
    "for i in clusterRange:\n",
    "    kmeans = KMeans(n_clusters=i).fit(cardiac.values)\n",
    "    print(\"Obj. Func:\", kmeans.inertia_)\n",
    "    objFuncs.append(kmeans.inertia_)\n",
    "\n",
    "plt.plot(clusterRange, objFuncs)"
   ]
  },
  {
   "cell_type": "code",
   "execution_count": 125,
   "id": "1a6a4d70",
   "metadata": {},
   "outputs": [
    {
     "data": {
      "text/plain": [
       "Text(0.5, 1.0, 'Silhouette Score vs Number of Clusters')"
      ]
     },
     "execution_count": 125,
     "metadata": {},
     "output_type": "execute_result"
    },
    {
     "data": {
      "image/png": "[encoded data removed]",
      "text/plain": [
       "<Figure size 432x288 with 1 Axes>"
      ]
     },
     "metadata": {
      "needs_background": "light"
     },
     "output_type": "display_data"
    }
   ],
   "source": [
    "from sklearn.metrics import silhouette_score\n",
    "\n",
    "ss= []\n",
    "\n",
    "k_range=range(2,11)\n",
    "\n",
    "#Fit the KMeans model for each n_clusters=k\n",
    "k_means = [KMeans(n_clusters=k).fit(cardiac.values) for k in k_range]\n",
    "sscores = [silhouette_score(cardiac.values, kmean.labels_) for kmean in k_means]\n",
    "\n",
    "plt.plot(list(k_range), sscores, 'r*-.')\n",
    "plt.xlabel(\"Number of Clusters\")\n",
    "plt.ylabel(\"Silhouette Score\")\n",
    "plt.title(\"Silhouette Score vs Number of Clusters\")"
   ]
  },
  {
   "cell_type": "markdown",
   "id": "bd208a9e",
   "metadata": {},
   "source": [
    "## Inertia vs Silhouette Score\n",
    "\n",
    "As we can see, we have high Silhouette scores for n_cluster = 2, 3 and 7.\n",
    "After further consideration using Inertia, we narrow down our top clusters 3 and 7. "
   ]
  },
  {
   "cell_type": "code",
   "execution_count": 126,
   "id": "180aacc7",
   "metadata": {},
   "outputs": [],
   "source": [
    "cardiac['Cluster'] = kmeans_3['cluster']"
   ]
  },
  {
   "cell_type": "markdown",
   "id": "b9228550",
   "metadata": {},
   "source": [
    "## k_cluster =3"
   ]
  },
  {
   "cell_type": "code",
   "execution_count": 128,
   "id": "6800f619",
   "metadata": {},
   "outputs": [
    {
     "name": "stdout",
     "output_type": "stream",
     "text": [
      "Cluster 0\n",
      "Negative: 76\t Positive: 33\n",
      "Purity: 0.4342105263157895\n",
      "\n",
      "\n",
      "Cluster 1\n",
      "Negative: 52\t Positive: 27\n",
      "Purity: 0.5192307692307693\n",
      "\n",
      "\n",
      "Cluster 2\n",
      "Negative: 39\t Positive: 23\n",
      "Purity: 0.5897435897435898\n",
      "\n",
      "\n"
     ]
    }
   ],
   "source": [
    "for y in range(3):\n",
    "\n",
    "    positive = 0\n",
    "    negative = 0\n",
    "\n",
    "    for x in cardiac[cardiac['Cluster']==y][4]:\n",
    "        if x == 0.0: negative+=1\n",
    "        else: positive+=1\n",
    "\n",
    "    print(\"Cluster \" + str(y))\n",
    "    print(\"Negative: \" + str(negative) + \"\\t Positive: \" + str(positive))\n",
    "    print(\"Purity: \" + str(positive/negative)  + \"\\n\\n\")"
   ]
  },
  {
   "cell_type": "markdown",
   "id": "234ca380",
   "metadata": {},
   "source": [
    "## k_cluster = 7\n",
    "lets see what that looks like"
   ]
  },
  {
   "cell_type": "code",
   "execution_count": 147,
   "id": "fefb3d69",
   "metadata": {},
   "outputs": [],
   "source": [
    "cardiac = pd.read_csv('cardiacData.csv',header=None)\n",
    "#cardiac.head()\n",
    "\n",
    "cardiac.columns = ['HR', 'ST', 'Age', 'NPHA', 'Outcome']\n",
    "cardiac.head()\n",
    "\n",
    "cardiac = Normalizer().fit_transform(cardiac)\n",
    "cardiac = pd.DataFrame(cardiac)"
   ]
  },
  {
   "cell_type": "code",
   "execution_count": 148,
   "id": "05ade7a6",
   "metadata": {},
   "outputs": [
    {
     "name": "stdout",
     "output_type": "stream",
     "text": [
      "(array([0, 1, 2, 3, 4, 5, 6]), array([55, 35,  8, 17, 60, 47, 28], dtype=int64))\n"
     ]
    }
   ],
   "source": [
    "kmeans = KMeans(n_clusters=7).fit(cardiac.values)\n",
    "print(np.unique(kmeans.labels_, return_counts=True))\n",
    "\n",
    "kmeans_7 = pd.DataFrame(kmeans.labels_, columns=['cluster'])\n"
   ]
  },
  {
   "cell_type": "code",
   "execution_count": 149,
   "id": "1bed1543",
   "metadata": {},
   "outputs": [
    {
     "data": {
      "text/html": [
       "<div>\n",
       "<style scoped>\n",
       "    .dataframe tbody tr th:only-of-type {\n",
       "        vertical-align: middle;\n",
       "    }\n",
       "\n",
       "    .dataframe tbody tr th {\n",
       "        vertical-align: top;\n",
       "    }\n",
       "\n",
       "    .dataframe thead th {\n",
       "        text-align: right;\n",
       "    }\n",
       "</style>\n",
       "<table border=\"1\" class=\"dataframe\">\n",
       "  <thead>\n",
       "    <tr style=\"text-align: right;\">\n",
       "      <th></th>\n",
       "      <th>cluster</th>\n",
       "      <th>0</th>\n",
       "      <th>1</th>\n",
       "    </tr>\n",
       "  </thead>\n",
       "  <tbody>\n",
       "    <tr>\n",
       "      <th>79</th>\n",
       "      <td>4</td>\n",
       "      <td>-0.039972</td>\n",
       "      <td>-0.010634</td>\n",
       "    </tr>\n",
       "    <tr>\n",
       "      <th>118</th>\n",
       "      <td>6</td>\n",
       "      <td>-0.210908</td>\n",
       "      <td>0.008887</td>\n",
       "    </tr>\n",
       "    <tr>\n",
       "      <th>132</th>\n",
       "      <td>1</td>\n",
       "      <td>-0.091654</td>\n",
       "      <td>-0.007854</td>\n",
       "    </tr>\n",
       "    <tr>\n",
       "      <th>185</th>\n",
       "      <td>4</td>\n",
       "      <td>-0.032982</td>\n",
       "      <td>-0.010805</td>\n",
       "    </tr>\n",
       "    <tr>\n",
       "      <th>42</th>\n",
       "      <td>4</td>\n",
       "      <td>-0.002690</td>\n",
       "      <td>-0.011028</td>\n",
       "    </tr>\n",
       "  </tbody>\n",
       "</table>\n",
       "</div>"
      ],
      "text/plain": [
       "     cluster         0         1\n",
       "79         4 -0.039972 -0.010634\n",
       "118        6 -0.210908  0.008887\n",
       "132        1 -0.091654 -0.007854\n",
       "185        4 -0.032982 -0.010805\n",
       "42         4 -0.002690 -0.011028"
      ]
     },
     "execution_count": 149,
     "metadata": {},
     "output_type": "execute_result"
    }
   ],
   "source": [
    "pca = PCA(n_components=2).fit(cardiac)\n",
    "\n",
    "# Perform the transform\n",
    "pca_trans = pca.transform(cardiac)\n",
    "\n",
    "pca_trans_df = pd.DataFrame(pca_trans)\n",
    "\n",
    "# Add it to dataframe\n",
    "kmeans_7 = pd.concat([kmeans_7, pca_trans_df], axis=1)\n",
    "kmeans_7.sample(5)"
   ]
  },
  {
   "cell_type": "code",
   "execution_count": 150,
   "id": "794a9ee5",
   "metadata": {},
   "outputs": [
    {
     "data": {
      "text/plain": [
       "array([0.98796074, 0.00908393])"
      ]
     },
     "execution_count": 150,
     "metadata": {},
     "output_type": "execute_result"
    }
   ],
   "source": [
    "# check to see how many components would be best\n",
    "pca.explained_variance_ratio_"
   ]
  },
  {
   "cell_type": "code",
   "execution_count": 152,
   "id": "b56ff71a",
   "metadata": {},
   "outputs": [
    {
     "data": {
      "text/plain": [
       "0      0.005879\n",
       "1     -0.009939\n",
       "2      0.019402\n",
       "3     -0.002428\n",
       "4     -0.001467\n",
       "         ...   \n",
       "245   -0.009833\n",
       "246   -0.010651\n",
       "247    0.003056\n",
       "248   -0.011027\n",
       "249    0.004414\n",
       "Name: 1, Length: 250, dtype: float64"
      ]
     },
     "execution_count": 152,
     "metadata": {},
     "output_type": "execute_result"
    }
   ],
   "source": [
    "kmeans_7[1]"
   ]
  },
  {
   "cell_type": "code",
   "execution_count": 154,
   "id": "4cc0ab92",
   "metadata": {},
   "outputs": [
    {
     "data": {
      "image/png": "[encoded data removed]",
      "text/plain": [
       "<Figure size 432x288 with 1 Axes>"
      ]
     },
     "metadata": {
      "needs_background": "light"
     },
     "output_type": "display_data"
    }
   ],
   "source": [
    "# fig = sns.lmplot(x = 'pca1', y='pca2', data=kmeans_7, hue='cluster', fit_reg=False)\n",
    "sns.scatterplot(x=kmeans_7[0], y=kmeans_7[1], hue=kmeans_7['cluster'],palette='coolwarm')\n",
    "plt.show()"
   ]
  },
  {
   "cell_type": "code",
   "execution_count": 156,
   "id": "33abb392",
   "metadata": {},
   "outputs": [
    {
     "name": "stdout",
     "output_type": "stream",
     "text": [
      "Cluster 0\n",
      "Negative: 39\t Positive: 16\n",
      "Purity: 0.41025641025641024\n",
      "\n",
      "\n",
      "Cluster 1\n",
      "Negative: 25\t Positive: 10\n",
      "Purity: 0.4\n",
      "\n",
      "\n",
      "Cluster 2\n",
      "Negative: 3\t Positive: 5\n",
      "Purity: 1.6666666666666667\n",
      "\n",
      "\n",
      "Cluster 3\n",
      "Negative: 10\t Positive: 7\n",
      "Purity: 0.7\n",
      "\n",
      "\n",
      "Cluster 4\n",
      "Negative: 42\t Positive: 18\n",
      "Purity: 0.42857142857142855\n",
      "\n",
      "\n",
      "Cluster 5\n",
      "Negative: 31\t Positive: 16\n",
      "Purity: 0.5161290322580645\n",
      "\n",
      "\n",
      "Cluster 6\n",
      "Negative: 17\t Positive: 11\n",
      "Purity: 0.6470588235294118\n",
      "\n",
      "\n"
     ]
    }
   ],
   "source": [
    "cardiac['Cluster_7'] = kmeans_7['cluster']\n",
    "for y in range(7):\n",
    "\n",
    "    positive = 0\n",
    "    negative = 0\n",
    "\n",
    "    for x in cardiac[cardiac['Cluster_7']==y][4]:\n",
    "        if x == 0.0: negative+=1\n",
    "        else: positive+=1\n",
    "\n",
    "    print(\"Cluster \" + str(y))\n",
    "    print(\"Negative: \" + str(negative) + \"\\t Positive: \" + str(positive))\n",
    "    print(\"Purity: \" + str(positive/negative)  + \"\\n\\n\")"
   ]
  },
  {
   "cell_type": "code",
   "execution_count": null,
   "id": "479a89ff",
   "metadata": {},
   "outputs": [],
   "source": []
  }
 ],
 "metadata": {
  "kernelspec": {
   "display_name": "Python 3",
   "language": "python",
   "name": "python3"
  },
  "language_info": {
   "codemirror_mode": {
    "name": "ipython",
    "version": 3
   },
   "file_extension": ".py",
   "mimetype": "text/x-python",
   "name": "python",
   "nbconvert_exporter": "python",
   "pygments_lexer": "ipython3",
   "version": "3.8.8"
  }
 },
 "nbformat": 4,
 "nbformat_minor": 5
}
